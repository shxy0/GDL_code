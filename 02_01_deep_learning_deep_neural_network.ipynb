{
 "cells": [
  {
   "cell_type": "markdown",
   "metadata": {},
   "source": [
    "# Your first deep neural network"
   ]
  },
  {
   "cell_type": "markdown",
   "metadata": {},
   "source": [
    "# imports"
   ]
  },
  {
   "cell_type": "code",
   "execution_count": 1,
   "metadata": {},
   "outputs": [
    {
     "name": "stderr",
     "output_type": "stream",
     "text": [
      "Using TensorFlow backend.\n"
     ]
    }
   ],
   "source": [
    "import numpy as np\n",
    "import matplotlib.pyplot as plt\n",
    "\n",
    "from keras.layers import Input, Flatten, Dense, Conv2D\n",
    "from keras.models import Model\n",
    "from keras.optimizers import Adam\n",
    "\n",
    "from keras.utils import to_categorical\n",
    "\n",
    "from keras.datasets import cifar10"
   ]
  },
  {
   "cell_type": "markdown",
   "metadata": {},
   "source": [
    "# data"
   ]
  },
  {
   "cell_type": "code",
   "execution_count": 2,
   "metadata": {},
   "outputs": [],
   "source": [
    "NUM_CLASSES = 10"
   ]
  },
  {
   "cell_type": "code",
   "execution_count": 3,
   "metadata": {},
   "outputs": [],
   "source": [
    "(x_train, y_train), (x_test, y_test) = cifar10.load_data()"
   ]
  },
  {
   "cell_type": "code",
   "execution_count": 4,
   "metadata": {},
   "outputs": [],
   "source": [
    "x_train = x_train.astype('float32') / 255.0\n",
    "x_test = x_test.astype('float32') / 255.0\n",
    "\n",
    "y_train = to_categorical(y_train, NUM_CLASSES)\n",
    "y_test = to_categorical(y_test, NUM_CLASSES)"
   ]
  },
  {
   "cell_type": "code",
   "execution_count": 5,
   "metadata": {},
   "outputs": [
    {
     "data": {
      "text/plain": [
       "0.36862746"
      ]
     },
     "execution_count": 5,
     "metadata": {},
     "output_type": "execute_result"
    }
   ],
   "source": [
    "x_train[54, 12, 13, 1] "
   ]
  },
  {
   "cell_type": "markdown",
   "metadata": {},
   "source": [
    "# architecture"
   ]
  },
  {
   "cell_type": "code",
   "execution_count": 6,
   "metadata": {},
   "outputs": [
    {
     "name": "stderr",
     "output_type": "stream",
     "text": [
      "WARNING: Logging before flag parsing goes to stderr.\n",
      "W0226 21:03:28.440272  2380 deprecation_wrapper.py:119] From g:\\anaconda3\\envs\\gdl\\lib\\site-packages\\keras\\backend\\tensorflow_backend.py:74: The name tf.get_default_graph is deprecated. Please use tf.compat.v1.get_default_graph instead.\n",
      "\n",
      "W0226 21:03:28.472255  2380 deprecation_wrapper.py:119] From g:\\anaconda3\\envs\\gdl\\lib\\site-packages\\keras\\backend\\tensorflow_backend.py:517: The name tf.placeholder is deprecated. Please use tf.compat.v1.placeholder instead.\n",
      "\n",
      "W0226 21:03:28.493233  2380 deprecation_wrapper.py:119] From g:\\anaconda3\\envs\\gdl\\lib\\site-packages\\keras\\backend\\tensorflow_backend.py:4138: The name tf.random_uniform is deprecated. Please use tf.random.uniform instead.\n",
      "\n"
     ]
    }
   ],
   "source": [
    "input_layer = Input((32,32,3))\n",
    "\n",
    "x = Flatten()(input_layer)\n",
    "\n",
    "x = Dense(200, activation = 'relu')(x)\n",
    "x = Dense(150, activation = 'relu')(x)\n",
    "\n",
    "output_layer = Dense(NUM_CLASSES, activation = 'softmax')(x)\n",
    "\n",
    "model = Model(input_layer, output_layer)"
   ]
  },
  {
   "cell_type": "code",
   "execution_count": 7,
   "metadata": {},
   "outputs": [
    {
     "name": "stdout",
     "output_type": "stream",
     "text": [
      "_________________________________________________________________\n",
      "Layer (type)                 Output Shape              Param #   \n",
      "=================================================================\n",
      "input_1 (InputLayer)         (None, 32, 32, 3)         0         \n",
      "_________________________________________________________________\n",
      "flatten_1 (Flatten)          (None, 3072)              0         \n",
      "_________________________________________________________________\n",
      "dense_1 (Dense)              (None, 200)               614600    \n",
      "_________________________________________________________________\n",
      "dense_2 (Dense)              (None, 150)               30150     \n",
      "_________________________________________________________________\n",
      "dense_3 (Dense)              (None, 10)                1510      \n",
      "=================================================================\n",
      "Total params: 646,260\n",
      "Trainable params: 646,260\n",
      "Non-trainable params: 0\n",
      "_________________________________________________________________\n"
     ]
    }
   ],
   "source": [
    "model.summary()"
   ]
  },
  {
   "cell_type": "markdown",
   "metadata": {},
   "source": [
    "# train"
   ]
  },
  {
   "cell_type": "code",
   "execution_count": 8,
   "metadata": {},
   "outputs": [
    {
     "name": "stderr",
     "output_type": "stream",
     "text": [
      "W0226 21:03:35.026150  2380 deprecation_wrapper.py:119] From g:\\anaconda3\\envs\\gdl\\lib\\site-packages\\keras\\optimizers.py:790: The name tf.train.Optimizer is deprecated. Please use tf.compat.v1.train.Optimizer instead.\n",
      "\n",
      "W0226 21:03:35.034142  2380 deprecation_wrapper.py:119] From g:\\anaconda3\\envs\\gdl\\lib\\site-packages\\keras\\backend\\tensorflow_backend.py:3295: The name tf.log is deprecated. Please use tf.math.log instead.\n",
      "\n"
     ]
    }
   ],
   "source": [
    "opt = Adam(lr=0.0005)\n",
    "model.compile(loss='categorical_crossentropy', optimizer=opt, metrics=['accuracy'])"
   ]
  },
  {
   "cell_type": "code",
   "execution_count": 11,
   "metadata": {
    "scrolled": false
   },
   "outputs": [
    {
     "name": "stdout",
     "output_type": "stream",
     "text": [
      "Epoch 1/10\n",
      "50000/50000 [==============================] - 3s 63us/step - loss: 1.1635 - acc: 0.5882\n",
      "Epoch 2/10\n",
      "50000/50000 [==============================] - 3s 63us/step - loss: 1.1547 - acc: 0.5922\n",
      "Epoch 3/10\n",
      "50000/50000 [==============================] - 3s 63us/step - loss: 1.1543 - acc: 0.5923\n",
      "Epoch 4/10\n",
      "50000/50000 [==============================] - 3s 63us/step - loss: 1.1494 - acc: 0.5918\n",
      "Epoch 5/10\n",
      "50000/50000 [==============================] - 3s 63us/step - loss: 1.1420 - acc: 0.5947\n",
      "Epoch 6/10\n",
      "50000/50000 [==============================] - 3s 63us/step - loss: 1.1349 - acc: 0.5981\n",
      "Epoch 7/10\n",
      "50000/50000 [==============================] - 3s 65us/step - loss: 1.1354 - acc: 0.5984\n",
      "Epoch 8/10\n",
      "50000/50000 [==============================] - 3s 64us/step - loss: 1.1274 - acc: 0.6014\n",
      "Epoch 9/10\n",
      "50000/50000 [==============================] - 3s 65us/step - loss: 1.1203 - acc: 0.6041\n",
      "Epoch 10/10\n",
      "50000/50000 [==============================] - 3s 64us/step - loss: 1.1171 - acc: 0.6030\n"
     ]
    },
    {
     "data": {
      "text/plain": [
       "<keras.callbacks.History at 0x1ba816b2358>"
      ]
     },
     "execution_count": 11,
     "metadata": {},
     "output_type": "execute_result"
    }
   ],
   "source": [
    "model.fit(x_train\n",
    "          , y_train\n",
    "          , batch_size=128\n",
    "          , epochs=10\n",
    "          , shuffle=True)"
   ]
  },
  {
   "cell_type": "markdown",
   "metadata": {},
   "source": [
    "GTX 780\n",
    "batch 128\n",
    "\n",
    "Epoch 1/10\n",
    "50000/50000 [==============================] - 3s 63us/step - loss: 1.1635 - acc: 0.5882\n",
    "Epoch 2/10\n",
    "50000/50000 [==============================] - 3s 63us/step - loss: 1.1547 - acc: 0.5922\n",
    "Epoch 3/10\n",
    "50000/50000 [==============================] - 3s 63us/step - loss: 1.1543 - acc: 0.5923\n",
    "Epoch 4/10\n",
    "50000/50000 [==============================] - 3s 63us/step - loss: 1.1494 - acc: 0.5918\n",
    "Epoch 5/10\n",
    "50000/50000 [==============================] - 3s 63us/step - loss: 1.1420 - acc: 0.5947\n",
    "Epoch 6/10\n",
    "50000/50000 [==============================] - 3s 63us/step - loss: 1.1349 - acc: 0.5981\n",
    "Epoch 7/10\n",
    "50000/50000 [==============================] - 3s 65us/step - loss: 1.1354 - acc: 0.5984\n",
    "Epoch 8/10\n",
    "50000/50000 [==============================] - 3s 64us/step - loss: 1.1274 - acc: 0.6014\n",
    "Epoch 9/10\n",
    "50000/50000 [==============================] - 3s 65us/step - loss: 1.1203 - acc: 0.6041\n",
    "Epoch 10/10\n",
    "50000/50000 [==============================] - 3s 64us/step - loss: 1.1171 - acc: 0.6030"
   ]
  },
  {
   "cell_type": "markdown",
   "metadata": {},
   "source": [
    "GTX 780\n",
    "batch 64\n",
    "\n",
    "Epoch 1/10\n",
    "50000/50000 [==============================] - 5s 95us/step - loss: 1.2995 - acc: 0.5373\n",
    "Epoch 2/10\n",
    "50000/50000 [==============================] - 5s 94us/step - loss: 1.2911 - acc: 0.5435\n",
    "Epoch 3/10\n",
    "50000/50000 [==============================] - 5s 94us/step - loss: 1.2793 - acc: 0.5451\n",
    "Epoch 4/10\n",
    "50000/50000 [==============================] - 5s 94us/step - loss: 1.2736 - acc: 0.5485: 1s - l\n",
    "Epoch 5/10\n",
    "50000/50000 [==============================] - 5s 94us/step - loss: 1.2608 - acc: 0.5523\n",
    "Epoch 6/10\n",
    "50000/50000 [==============================] - 5s 94us/step - loss: 1.2501 - acc: 0.5562\n",
    "Epoch 7/10\n",
    "50000/50000 [==============================] - 5s 95us/step - loss: 1.2387 - acc: 0.5611\n",
    "Epoch 8/10\n",
    "50000/50000 [==============================] - 5s 94us/step - loss: 1.2264 - acc: 0.5642\n",
    "Epoch 9/10\n",
    "50000/50000 [==============================] - 5s 95us/step - loss: 1.2208 - acc: 0.5677\n",
    "Epoch 10/10\n",
    "50000/50000 [==============================] - 5s 94us/step - loss: 1.2071 - acc: 0.5718"
   ]
  },
  {
   "cell_type": "markdown",
   "metadata": {},
   "source": [
    "GTX 780\n",
    "batch 32\n",
    "\n",
    "W0226 21:03:44.477779  2380 deprecation.py:323] From g:\\anaconda3\\envs\\gdl\\lib\\site-packages\\tensorflow\\python\\ops\\math_grad.py:1250: add_dispatch_support.<locals>.wrapper (from tensorflow.python.ops.array_ops) is deprecated and will be removed in a future version.\n",
    "Instructions for updating:\n",
    "Use tf.where in 2.0, which has the same broadcast rule as np.where\n",
    "W0226 21:03:44.535924  2380 deprecation_wrapper.py:119] From g:\\anaconda3\\envs\\gdl\\lib\\site-packages\\keras\\backend\\tensorflow_backend.py:986: The name tf.assign_add is deprecated. Please use tf.compat.v1.assign_add instead.\n",
    "\n",
    "Epoch 1/10\n",
    "50000/50000 [==============================] - 12s 230us/step - loss: 1.8423 - acc: 0.3360\n",
    "Epoch 2/10\n",
    "50000/50000 [==============================] - 9s 170us/step - loss: 1.6619 - acc: 0.4048\n",
    "Epoch 3/10\n",
    "50000/50000 [==============================] - 9s 175us/step - loss: 1.5752 - acc: 0.4362\n",
    "Epoch 4/10\n",
    "50000/50000 [==============================] - 8s 168us/step - loss: 1.5293 - acc: 0.4551\n",
    "Epoch 5/10\n",
    "50000/50000 [==============================] - 9s 172us/step - loss: 1.4853 - acc: 0.4714\n",
    "Epoch 6/10\n",
    "50000/50000 [==============================] - 9s 172us/step - loss: 1.4572 - acc: 0.4829\n",
    "Epoch 7/10\n",
    "50000/50000 [==============================] - 9s 171us/step - loss: 1.4278 - acc: 0.4928\n",
    "Epoch 8/10\n",
    "50000/50000 [==============================] - 9s 171us/step - loss: 1.4064 - acc: 0.4979\n",
    "Epoch 9/10\n",
    "50000/50000 [==============================] - 9s 179us/step - loss: 1.3827 - acc: 0.5087\n",
    "Epoch 10/10\n",
    "50000/50000 [==============================] - 9s 176us/step - loss: 1.3639 - acc: 0.5166"
   ]
  },
  {
   "cell_type": "markdown",
   "metadata": {},
   "source": [
    "GTX 770\n",
    "batch 32\n",
    "\n",
    "Epoch 1/10\n",
    "50000/50000 [==============================] - 22s 432us/step - loss: 1.8344 - acc: 0.3424\n",
    "Epoch 2/10\n",
    "50000/50000 [==============================] - 19s 387us/step - loss: 1.6591 - acc: 0.4080\n",
    "Epoch 3/10\n",
    "50000/50000 [==============================] - 20s 392us/step - loss: 1.5867 - acc: 0.4366\n",
    "Epoch 4/10\n",
    "50000/50000 [==============================] - 21s 414us/step - loss: 1.5306 - acc: 0.4539\n",
    "Epoch 5/10\n",
    "50000/50000 [==============================] - ETA: 0s - loss: 1.4951 - acc: 0.469 - 22s 444us/step - loss: 1.4949 - acc: 0.4699\n",
    "Epoch 6/10\n",
    "50000/50000 [==============================] - 22s 440us/step - loss: 1.4661 - acc: 0.4781\n",
    "Epoch 7/10\n",
    "50000/50000 [==============================] - 22s 447us/step - loss: 1.4409 - acc: 0.4876\n",
    "Epoch 8/10\n",
    "50000/50000 [==============================] - 22s 445us/step - loss: 1.4199 - acc: 0.49401s - l\n",
    "Epoch 9/10\n",
    "50000/50000 [==============================] - 21s 422us/step - loss: 1.3986 - acc: 0.5047\n",
    "Epoch 10/10\n",
    "50000/50000 [==============================] - 22s 436us/step - loss: 1.3776 - acc: 0.5099"
   ]
  },
  {
   "cell_type": "markdown",
   "metadata": {},
   "source": [
    "# analysis"
   ]
  },
  {
   "cell_type": "code",
   "execution_count": 12,
   "metadata": {},
   "outputs": [
    {
     "name": "stdout",
     "output_type": "stream",
     "text": [
      "10000/10000 [==============================] - 1s 69us/step\n"
     ]
    },
    {
     "data": {
      "text/plain": [
       "[1.3814043787002563, 0.5194]"
      ]
     },
     "execution_count": 12,
     "metadata": {},
     "output_type": "execute_result"
    }
   ],
   "source": [
    "model.evaluate(x_test, y_test)"
   ]
  },
  {
   "cell_type": "code",
   "execution_count": 13,
   "metadata": {},
   "outputs": [],
   "source": [
    "CLASSES = np.array(['airplane', 'automobile', 'bird', 'cat', 'deer', 'dog', 'frog', 'horse', 'ship', 'truck'])\n",
    "\n",
    "preds = model.predict(x_test)\n",
    "preds_single = CLASSES[np.argmax(preds, axis = -1)]\n",
    "actual_single = CLASSES[np.argmax(y_test, axis = -1)]"
   ]
  },
  {
   "cell_type": "code",
   "execution_count": 14,
   "metadata": {},
   "outputs": [
    {
     "data": {
      "image/png": "[encoded data removed]",
      "text/plain": [
       "<Figure size 1080x216 with 10 Axes>"
      ]
     },
     "metadata": {
      "needs_background": "light"
     },
     "output_type": "display_data"
    }
   ],
   "source": [
    "\n",
    "n_to_show = 10\n",
    "indices = np.random.choice(range(len(x_test)), n_to_show)\n",
    "\n",
    "fig = plt.figure(figsize=(15, 3))\n",
    "fig.subplots_adjust(hspace=0.4, wspace=0.4)\n",
    "\n",
    "for i, idx in enumerate(indices):\n",
    "    img = x_test[idx]\n",
    "    ax = fig.add_subplot(1, n_to_show, i+1)\n",
    "    ax.axis('off')\n",
    "    ax.text(0.5, -0.35, 'pred = ' + str(preds_single[idx]), fontsize=10, ha='center', transform=ax.transAxes) \n",
    "    ax.text(0.5, -0.7, 'act = ' + str(actual_single[idx]), fontsize=10, ha='center', transform=ax.transAxes)\n",
    "    ax.imshow(img)\n"
   ]
  },
  {
   "cell_type": "code",
   "execution_count": null,
   "metadata": {},
   "outputs": [],
   "source": []
  }
 ],
 "metadata": {
  "kernelspec": {
   "display_name": "Python 3",
   "language": "python",
   "name": "python3"
  },
  "language_info": {
   "codemirror_mode": {
    "name": "ipython",
    "version": 3
   },
   "file_extension": ".py",
   "mimetype": "text/x-python",
   "name": "python",
   "nbconvert_exporter": "python",
   "pygments_lexer": "ipython3",
   "version": "3.6.6"
  }
 },
 "nbformat": 4,
 "nbformat_minor": 2
}
