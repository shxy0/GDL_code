{
 "cells": [
  {
   "cell_type": "markdown",
   "metadata": {},
   "source": [
    "# Your first convolutional neural network"
   ]
  },
  {
   "cell_type": "markdown",
   "metadata": {},
   "source": [
    "# imports"
   ]
  },
  {
   "cell_type": "code",
   "execution_count": 1,
   "metadata": {},
   "outputs": [
    {
     "name": "stderr",
     "output_type": "stream",
     "text": [
      "Using TensorFlow backend.\n"
     ]
    }
   ],
   "source": [
    "import numpy as np\n",
    "\n",
    "from keras.layers import Input, Flatten, Dense, Conv2D, BatchNormalization, LeakyReLU, Dropout, Activation\n",
    "from keras.models import Model\n",
    "from keras.optimizers import Adam\n",
    "from keras.utils import to_categorical\n",
    "import keras.backend as K \n",
    "\n",
    "from keras.datasets import cifar10"
   ]
  },
  {
   "cell_type": "markdown",
   "metadata": {},
   "source": [
    "# data"
   ]
  },
  {
   "cell_type": "code",
   "execution_count": 2,
   "metadata": {},
   "outputs": [],
   "source": [
    "NUM_CLASSES = 10"
   ]
  },
  {
   "cell_type": "code",
   "execution_count": 3,
   "metadata": {},
   "outputs": [],
   "source": [
    "(x_train, y_train), (x_test, y_test) = cifar10.load_data()"
   ]
  },
  {
   "cell_type": "code",
   "execution_count": 4,
   "metadata": {},
   "outputs": [],
   "source": [
    "x_train = x_train.astype('float32') / 255.0\n",
    "x_test = x_test.astype('float32') / 255.0\n",
    "\n",
    "y_train = to_categorical(y_train, NUM_CLASSES)\n",
    "y_test = to_categorical(y_test, NUM_CLASSES)"
   ]
  },
  {
   "cell_type": "code",
   "execution_count": 5,
   "metadata": {},
   "outputs": [
    {
     "data": {
      "text/plain": [
       "0.36862746"
      ]
     },
     "execution_count": 5,
     "metadata": {},
     "output_type": "execute_result"
    }
   ],
   "source": [
    "x_train[54, 12, 13, 1] "
   ]
  },
  {
   "cell_type": "markdown",
   "metadata": {},
   "source": [
    "# architecture"
   ]
  },
  {
   "cell_type": "code",
   "execution_count": 6,
   "metadata": {},
   "outputs": [
    {
     "name": "stderr",
     "output_type": "stream",
     "text": [
      "WARNING: Logging before flag parsing goes to stderr.\n",
      "W0318 23:03:02.494618  6620 deprecation_wrapper.py:119] From g:\\anaconda3\\envs\\gdl\\lib\\site-packages\\keras\\backend\\tensorflow_backend.py:74: The name tf.get_default_graph is deprecated. Please use tf.compat.v1.get_default_graph instead.\n",
      "\n",
      "W0318 23:03:02.527594  6620 deprecation_wrapper.py:119] From g:\\anaconda3\\envs\\gdl\\lib\\site-packages\\keras\\backend\\tensorflow_backend.py:517: The name tf.placeholder is deprecated. Please use tf.compat.v1.placeholder instead.\n",
      "\n",
      "W0318 23:03:02.535588  6620 deprecation_wrapper.py:119] From g:\\anaconda3\\envs\\gdl\\lib\\site-packages\\keras\\backend\\tensorflow_backend.py:4138: The name tf.random_uniform is deprecated. Please use tf.random.uniform instead.\n",
      "\n"
     ]
    }
   ],
   "source": [
    "input_layer = Input(shape=(32,32,3))\n",
    "\n",
    "conv_layer_1 = Conv2D(\n",
    "    filters = 10\n",
    "    , kernel_size = (4,4)\n",
    "    , strides = 2\n",
    "    , padding = 'same'\n",
    "    )(input_layer)\n",
    "\n",
    "conv_layer_2 = Conv2D(\n",
    "    filters = 20\n",
    "    , kernel_size = (3,3)\n",
    "    , strides = 2\n",
    "    , padding = 'same'\n",
    "    )(conv_layer_1)\n",
    "\n",
    "flatten_layer = Flatten()(conv_layer_2)\n",
    "\n",
    "output_layer = Dense(units=10, activation = 'softmax')(flatten_layer)\n",
    "\n",
    "model = Model(input_layer, output_layer)"
   ]
  },
  {
   "cell_type": "code",
   "execution_count": 7,
   "metadata": {},
   "outputs": [
    {
     "name": "stdout",
     "output_type": "stream",
     "text": [
      "_________________________________________________________________\n",
      "Layer (type)                 Output Shape              Param #   \n",
      "=================================================================\n",
      "input_1 (InputLayer)         (None, 32, 32, 3)         0         \n",
      "_________________________________________________________________\n",
      "conv2d_1 (Conv2D)            (None, 16, 16, 10)        490       \n",
      "_________________________________________________________________\n",
      "conv2d_2 (Conv2D)            (None, 8, 8, 20)          1820      \n",
      "_________________________________________________________________\n",
      "flatten_1 (Flatten)          (None, 1280)              0         \n",
      "_________________________________________________________________\n",
      "dense_1 (Dense)              (None, 10)                12810     \n",
      "=================================================================\n",
      "Total params: 15,120\n",
      "Trainable params: 15,120\n",
      "Non-trainable params: 0\n",
      "_________________________________________________________________\n"
     ]
    }
   ],
   "source": [
    "model.summary()"
   ]
  },
  {
   "cell_type": "code",
   "execution_count": 8,
   "metadata": {
    "scrolled": true
   },
   "outputs": [
    {
     "name": "stderr",
     "output_type": "stream",
     "text": [
      "W0318 23:03:10.115549  6620 deprecation_wrapper.py:119] From g:\\anaconda3\\envs\\gdl\\lib\\site-packages\\keras\\backend\\tensorflow_backend.py:174: The name tf.get_default_session is deprecated. Please use tf.compat.v1.get_default_session instead.\n",
      "\n",
      "W0318 23:03:10.115549  6620 deprecation_wrapper.py:119] From g:\\anaconda3\\envs\\gdl\\lib\\site-packages\\keras\\backend\\tensorflow_backend.py:181: The name tf.ConfigProto is deprecated. Please use tf.compat.v1.ConfigProto instead.\n",
      "\n",
      "W0318 23:03:12.232681  6620 deprecation_wrapper.py:119] From g:\\anaconda3\\envs\\gdl\\lib\\site-packages\\keras\\backend\\tensorflow_backend.py:1834: The name tf.nn.fused_batch_norm is deprecated. Please use tf.compat.v1.nn.fused_batch_norm instead.\n",
      "\n",
      "W0318 23:03:12.712854  6620 deprecation.py:506] From g:\\anaconda3\\envs\\gdl\\lib\\site-packages\\keras\\backend\\tensorflow_backend.py:3445: calling dropout (from tensorflow.python.ops.nn_ops) with keep_prob is deprecated and will be removed in a future version.\n",
      "Instructions for updating:\n",
      "Please use `rate` instead of `keep_prob`. Rate should be set to `rate = 1 - keep_prob`.\n"
     ]
    }
   ],
   "source": [
    "input_layer = Input((32,32,3))\n",
    "\n",
    "x = Conv2D(filters = 32, kernel_size = 3, strides = 1, padding = 'same')(input_layer)\n",
    "x = BatchNormalization()(x)\n",
    "x = LeakyReLU()(x)\n",
    "\n",
    "\n",
    "x = Conv2D(filters = 32, kernel_size = 3, strides = 2, padding = 'same')(x)\n",
    "x = BatchNormalization()(x)\n",
    "x = LeakyReLU()(x)\n",
    "\n",
    "\n",
    "x = Conv2D(filters = 64, kernel_size = 3, strides = 1, padding = 'same')(x)\n",
    "x = BatchNormalization()(x)\n",
    "x = LeakyReLU()(x)\n",
    "\n",
    "\n",
    "x = Conv2D(filters = 64, kernel_size = 3, strides = 2, padding = 'same')(x)\n",
    "x = BatchNormalization()(x)\n",
    "x = LeakyReLU()(x)\n",
    "\n",
    "\n",
    "x = Flatten()(x)\n",
    "\n",
    "x = Dense(128)(x)\n",
    "x = BatchNormalization()(x)\n",
    "x = LeakyReLU()(x)\n",
    "x = Dropout(rate = 0.5)(x)\n",
    "\n",
    "x = Dense(NUM_CLASSES)(x)\n",
    "output_layer = Activation('softmax')(x)\n",
    "\n",
    "model = Model(input_layer, output_layer)"
   ]
  },
  {
   "cell_type": "code",
   "execution_count": 9,
   "metadata": {},
   "outputs": [
    {
     "name": "stdout",
     "output_type": "stream",
     "text": [
      "_________________________________________________________________\n",
      "Layer (type)                 Output Shape              Param #   \n",
      "=================================================================\n",
      "input_2 (InputLayer)         (None, 32, 32, 3)         0         \n",
      "_________________________________________________________________\n",
      "conv2d_3 (Conv2D)            (None, 32, 32, 32)        896       \n",
      "_________________________________________________________________\n",
      "batch_normalization_1 (Batch (None, 32, 32, 32)        128       \n",
      "_________________________________________________________________\n",
      "leaky_re_lu_1 (LeakyReLU)    (None, 32, 32, 32)        0         \n",
      "_________________________________________________________________\n",
      "conv2d_4 (Conv2D)            (None, 16, 16, 32)        9248      \n",
      "_________________________________________________________________\n",
      "batch_normalization_2 (Batch (None, 16, 16, 32)        128       \n",
      "_________________________________________________________________\n",
      "leaky_re_lu_2 (LeakyReLU)    (None, 16, 16, 32)        0         \n",
      "_________________________________________________________________\n",
      "conv2d_5 (Conv2D)            (None, 16, 16, 64)        18496     \n",
      "_________________________________________________________________\n",
      "batch_normalization_3 (Batch (None, 16, 16, 64)        256       \n",
      "_________________________________________________________________\n",
      "leaky_re_lu_3 (LeakyReLU)    (None, 16, 16, 64)        0         \n",
      "_________________________________________________________________\n",
      "conv2d_6 (Conv2D)            (None, 8, 8, 64)          36928     \n",
      "_________________________________________________________________\n",
      "batch_normalization_4 (Batch (None, 8, 8, 64)          256       \n",
      "_________________________________________________________________\n",
      "leaky_re_lu_4 (LeakyReLU)    (None, 8, 8, 64)          0         \n",
      "_________________________________________________________________\n",
      "flatten_2 (Flatten)          (None, 4096)              0         \n",
      "_________________________________________________________________\n",
      "dense_2 (Dense)              (None, 128)               524416    \n",
      "_________________________________________________________________\n",
      "batch_normalization_5 (Batch (None, 128)               512       \n",
      "_________________________________________________________________\n",
      "leaky_re_lu_5 (LeakyReLU)    (None, 128)               0         \n",
      "_________________________________________________________________\n",
      "dropout_1 (Dropout)          (None, 128)               0         \n",
      "_________________________________________________________________\n",
      "dense_3 (Dense)              (None, 10)                1290      \n",
      "_________________________________________________________________\n",
      "activation_1 (Activation)    (None, 10)                0         \n",
      "=================================================================\n",
      "Total params: 592,554\n",
      "Trainable params: 591,914\n",
      "Non-trainable params: 640\n",
      "_________________________________________________________________\n"
     ]
    }
   ],
   "source": [
    "model.summary()"
   ]
  },
  {
   "cell_type": "markdown",
   "metadata": {},
   "source": [
    "# train"
   ]
  },
  {
   "cell_type": "code",
   "execution_count": 10,
   "metadata": {},
   "outputs": [
    {
     "name": "stderr",
     "output_type": "stream",
     "text": [
      "W0318 23:03:22.729718  6620 deprecation_wrapper.py:119] From g:\\anaconda3\\envs\\gdl\\lib\\site-packages\\keras\\optimizers.py:790: The name tf.train.Optimizer is deprecated. Please use tf.compat.v1.train.Optimizer instead.\n",
      "\n"
     ]
    }
   ],
   "source": [
    "opt = Adam(lr=0.0005)\n",
    "model.compile(loss='categorical_crossentropy', optimizer=opt, metrics=['accuracy'])"
   ]
  },
  {
   "cell_type": "code",
   "execution_count": 11,
   "metadata": {
    "scrolled": false
   },
   "outputs": [
    {
     "name": "stderr",
     "output_type": "stream",
     "text": [
      "W0318 23:04:02.809299  6620 deprecation.py:323] From g:\\anaconda3\\envs\\gdl\\lib\\site-packages\\tensorflow\\python\\ops\\math_grad.py:1250: add_dispatch_support.<locals>.wrapper (from tensorflow.python.ops.array_ops) is deprecated and will be removed in a future version.\n",
      "Instructions for updating:\n",
      "Use tf.where in 2.0, which has the same broadcast rule as np.where\n"
     ]
    },
    {
     "name": "stdout",
     "output_type": "stream",
     "text": [
      "Train on 50000 samples, validate on 10000 samples\n",
      "Epoch 1/5\n",
      "50000/50000 [==============================] - 16s 311us/step - loss: 1.6154 - acc: 0.4381 - val_loss: 1.4109 - val_acc: 0.4953\n",
      "Epoch 2/5\n",
      "50000/50000 [==============================] - 12s 238us/step - loss: 1.1928 - acc: 0.5767 - val_loss: 1.2132 - val_acc: 0.5761\n",
      "Epoch 3/5\n",
      "50000/50000 [==============================] - 12s 238us/step - loss: 1.0292 - acc: 0.6370 - val_loss: 1.0311 - val_acc: 0.6350\n",
      "Epoch 4/5\n",
      "50000/50000 [==============================] - 12s 236us/step - loss: 0.9278 - acc: 0.6750 - val_loss: 0.9711 - val_acc: 0.6566\n",
      "Epoch 5/5\n",
      "50000/50000 [==============================] - 12s 238us/step - loss: 0.8528 - acc: 0.7029 - val_loss: 0.9462 - val_acc: 0.6764\n"
     ]
    },
    {
     "data": {
      "text/plain": [
       "<keras.callbacks.History at 0x1d45081b470>"
      ]
     },
     "execution_count": 11,
     "metadata": {},
     "output_type": "execute_result"
    }
   ],
   "source": [
    "model.fit(x_train\n",
    "          , y_train \n",
    "          , batch_size=128\n",
    "          , epochs=5\n",
    "          , shuffle=True\n",
    "          , validation_data = (x_test, y_test))"
   ]
  },
  {
   "cell_type": "markdown",
   "metadata": {},
   "source": [
    "GTX 780\n",
    "batch_size = 128\n",
    "epochs = 5\n",
    "\n",
    "Train on 50000 samples, validate on 10000 samples\n",
    "\n",
    "Epoch 1/5\n",
    "50000/50000 [==============================] - 12s 242us/step - loss: 0.3675 - acc: 0.8718 - val_loss: 0.8104 - val_acc: 0.7393\n",
    "Epoch 2/5\n",
    "50000/50000 [==============================] - 12s 238us/step - loss: 0.3445 - acc: 0.8773 - val_loss: 0.8407 - val_acc: 0.7419\n",
    "Epoch 3/5\n",
    "50000/50000 [==============================] - 12s 238us/step - loss: 0.3302 - acc: 0.8832 - val_loss: 0.8676 - val_acc: 0.7383\n",
    "Epoch 4/5\n",
    "50000/50000 [==============================] - 12s 241us/step - loss: 0.3182 - acc: 0.8870 - val_loss: 0.9100 - val_acc: 0.7303\n",
    "Epoch 5/5\n",
    "50000/50000 [==============================] - 12s 240us/step - loss: 0.3064 - acc: 0.8906 - val_loss: 0.9647 - val_acc: 0.7229"
   ]
  },
  {
   "cell_type": "markdown",
   "metadata": {},
   "source": [
    "GTX 780\n",
    "batch_size = 64\n",
    "epochs = 5\n",
    "\n",
    "Train on 50000 samples, validate on 10000 samples\n",
    "\n",
    "Epoch 1/5\n",
    "50000/50000 [==============================] - 18s 351us/step - loss: 0.5415 - acc: 0.8108 - val_loss: 0.7968 - val_acc: 0.7263\n",
    "Epoch 2/5\n",
    "50000/50000 [==============================] - 18s 353us/step - loss: 0.5162 - acc: 0.8192 - val_loss: 0.8817 - val_acc: 0.7188\n",
    "Epoch 3/5\n",
    "50000/50000 [==============================] - 17s 350us/step - loss: 0.4995 - acc: 0.8224 - val_loss: 0.8046 - val_acc: 0.7298\n",
    "Epoch 4/5\n",
    "50000/50000 [==============================] - 18s 350us/step - loss: 0.4758 - acc: 0.8307 - val_loss: 0.8508 - val_acc: 0.7179\n",
    "Epoch 5/5\n",
    "50000/50000 [==============================] - 17s 350us/step - loss: 0.4570 - acc: 0.8364 - val_loss: 0.9035 - val_acc: 0.7171"
   ]
  },
  {
   "cell_type": "markdown",
   "metadata": {},
   "source": [
    "GTX 780\n",
    "batch_size = 32\n",
    "epochs = 10\n",
    "\n",
    "W0226 22:33:33.703509  3420 deprecation.py:323] From g:\\anaconda3\\envs\\gdl\\lib\\site-packages\\tensorflow\\python\\ops\\math_grad.py:1250: add_dispatch_support.<locals>.wrapper (from tensorflow.python.ops.array_ops) is deprecated and will be removed in a future version.\n",
    "\n",
    "Instructions for updating:\n",
    "Use tf.where in 2.0, which has the same broadcast rule as np.where\n",
    "\n",
    "Train on 50000 samples, validate on 10000 samples\n",
    "    \n",
    "Epoch 1/10\n",
    "50000/50000 [==============================] - 27s 536us/step - loss: 1.5583 - acc: 0.4564 - val_loss: 1.3624 - val_acc: 0.5193\n",
    "Epoch 2/10\n",
    "50000/50000 [==============================] - 28s 550us/step - loss: 1.1596 - acc: 0.5898 - val_loss: 1.3972 - val_acc: 0.5209\n",
    "Epoch 3/10\n",
    "50000/50000 [==============================] - 27s 545us/step - loss: 1.0133 - acc: 0.6465 - val_loss: 1.0950 - val_acc: 0.6200\n",
    "Epoch 4/10\n",
    "50000/50000 [==============================] - 27s 545us/step - loss: 0.9260 - acc: 0.6751 - val_loss: 1.0563 - val_acc: 0.6309\n",
    "Epoch 5/10\n",
    "50000/50000 [==============================] - 27s 543us/step - loss: 0.8721 - acc: 0.6961 - val_loss: 0.8627 - val_acc: 0.6926\n",
    "Epoch 6/10\n",
    "50000/50000 [==============================] - 27s 548us/step - loss: 0.8164 - acc: 0.7131 - val_loss: 0.8814 - val_acc: 0.6939\n",
    "Epoch 7/10\n",
    "50000/50000 [==============================] - 27s 548us/step - loss: 0.7693 - acc: 0.7334 - val_loss: 0.8191 - val_acc: 0.7140\n",
    "Epoch 8/10\n",
    "50000/50000 [==============================] - 27s 548us/step - loss: 0.7338 - acc: 0.7440 - val_loss: 0.9046 - val_acc: 0.6870\n",
    "Epoch 9/10\n",
    "50000/50000 [==============================] - 27s 547us/step - loss: 0.6937 - acc: 0.7557 - val_loss: 0.8492 - val_acc: 0.7022\n",
    "Epoch 10/10\n",
    "50000/50000 [==============================] - 27s 550us/step - loss: 0.6630 - acc: 0.7676 - val_loss: 0.8227 - val_acc: 0.7128"
   ]
  },
  {
   "cell_type": "markdown",
   "metadata": {},
   "source": [
    "GTX 770\n",
    "batch_size = 32\n",
    "\n",
    "W0226 17:34:20.967881  1576 deprecation.py:323] From d:\\anaconda3\\envs\\gdl\\lib\\site-packages\\tensorflow\\python\\ops\\math_grad.py:1250: add_dispatch_support.<locals>.wrapper (from tensorflow.python.ops.array_ops) is deprecated and will be removed in a future version.\n",
    "\n",
    "Instructions for updating:\n",
    "Use tf.where in 2.0, which has the same broadcast rule as np.where\n",
    "\n",
    "Train on 50000 samples, validate on 10000 samples\n",
    "\n",
    "Epoch 1/10\n",
    "50000/50000 [==============================] - 244s 5ms/step - loss: 1.5532 - acc: 0.4607 - val_loss: 1.2603 - val_acc: 0.5583\n",
    "Epoch 2/10\n",
    "50000/50000 [==============================] - 249s 5ms/step - loss: 1.1353 - acc: 0.6013 - val_loss: 1.0622 - val_acc: 0.6162\n",
    "Epoch 3/10\n",
    "50000/50000 [==============================] - 245s 5ms/step - loss: 0.9939 - acc: 0.6528 - val_loss: 1.0815 - val_acc: 0.6256\n",
    "Epoch 4/10\n",
    "50000/50000 [==============================] - 243s 5ms/step - loss: 0.9076 - acc: 0.6847 - val_loss: 0.9761 - val_acc: 0.6526\n",
    "Epoch 5/10\n",
    "50000/50000 [==============================] - 240s 5ms/step - loss: 0.8554 - acc: 0.7024 - val_loss: 0.9663 - val_acc: 0.6667\n",
    "Epoch 6/10\n",
    "50000/50000 [==============================] - 239s 5ms/step - loss: 0.7996 - acc: 0.7236 - val_loss: 0.8379 - val_acc: 0.7089\n",
    "Epoch 7/10\n",
    "50000/50000 [==============================] - 240s 5ms/step - loss: 0.7618 - acc: 0.7340 - val_loss: 0.8187 - val_acc: 0.7206\n",
    "Epoch 8/10\n",
    "50000/50000 [==============================] - 240s 5ms/step - loss: 0.7233 - acc: 0.7470 - val_loss: 0.9398 - val_acc: 0.6777\n",
    "Epoch 9/10\n",
    "50000/50000 [==============================] - 251s 5ms/step - loss: 0.6800 - acc: 0.7621 - val_loss: 0.8034 - val_acc: 0.7222\n",
    "Epoch 10/10\n",
    "50000/50000 [==============================] - 247s 5ms/step - loss: 0.6503 - acc: 0.7725 - val_loss: 0.8023 - val_acc: 0.7256"
   ]
  },
  {
   "cell_type": "code",
   "execution_count": 12,
   "metadata": {},
   "outputs": [
    {
     "data": {
      "text/plain": [
       "[]"
      ]
     },
     "execution_count": 12,
     "metadata": {},
     "output_type": "execute_result"
    }
   ],
   "source": [
    "model.layers[6].get_weights()"
   ]
  },
  {
   "cell_type": "markdown",
   "metadata": {},
   "source": [
    "# analysis"
   ]
  },
  {
   "cell_type": "code",
   "execution_count": 13,
   "metadata": {},
   "outputs": [
    {
     "name": "stdout",
     "output_type": "stream",
     "text": [
      "10000/10000 [==============================] - 1s 79us/step\n"
     ]
    },
    {
     "data": {
      "text/plain": [
       "[0.9462083458900452, 0.6764000058174133]"
      ]
     },
     "execution_count": 13,
     "metadata": {},
     "output_type": "execute_result"
    }
   ],
   "source": [
    "model.evaluate(x_test, y_test, batch_size=1000)"
   ]
  },
  {
   "cell_type": "code",
   "execution_count": 14,
   "metadata": {},
   "outputs": [],
   "source": [
    "CLASSES = np.array(['airplane', 'automobile', 'bird', 'cat', 'deer', 'dog', 'frog', 'horse', 'ship', 'truck'])\n",
    "\n",
    "preds = model.predict(x_test)\n",
    "preds_single = CLASSES[np.argmax(preds, axis = -1)]\n",
    "actual_single = CLASSES[np.argmax(y_test, axis = -1)]"
   ]
  },
  {
   "cell_type": "code",
   "execution_count": 15,
   "metadata": {},
   "outputs": [],
   "source": [
    "import matplotlib.pyplot as plt"
   ]
  },
  {
   "cell_type": "code",
   "execution_count": 20,
   "metadata": {},
   "outputs": [
    {
     "data": {
      "text/plain": [
       "<Figure size 1080x216 with 0 Axes>"
      ]
     },
     "metadata": {},
     "output_type": "display_data"
    }
   ],
   "source": [
    "n_to_show = 10\n",
    "indices = np.random.choice(range(len(x_test)), n_to_show)\n",
    "\n",
    "fig = plt.figure(figsize=(15, 3))\n",
    "fig.subplots_adjust(hspace=0.4, wspace=0.4)"
   ]
  },
  {
   "cell_type": "code",
   "execution_count": 21,
   "metadata": {},
   "outputs": [],
   "source": [
    "for i, idx in enumerate(indices):\n",
    "    img = x_test[idx]\n",
    "    ax = fig.add_subplot(1, n_to_show, i+1)\n",
    "    ax.axis('off')\n",
    "    ax.text(0.5, -0.35, 'pred = ' + str(preds_single[idx]), fontsize=10, ha='center', transform=ax.transAxes) \n",
    "    ax.text(0.5, -0.7, 'act = ' + str(actual_single[idx]), fontsize=10, ha='center', transform=ax.transAxes)\n",
    "    ax.imshow(img)"
   ]
  },
  {
   "cell_type": "code",
   "execution_count": null,
   "metadata": {},
   "outputs": [],
   "source": []
  }
 ],
 "metadata": {
  "kernelspec": {
   "display_name": "Python 3",
   "language": "python",
   "name": "python3"
  },
  "language_info": {
   "codemirror_mode": {
    "name": "ipython",
    "version": 3
   },
   "file_extension": ".py",
   "mimetype": "text/x-python",
   "name": "python",
   "nbconvert_exporter": "python",
   "pygments_lexer": "ipython3",
   "version": "3.6.6"
  }
 },
 "nbformat": 4,
 "nbformat_minor": 2
}
